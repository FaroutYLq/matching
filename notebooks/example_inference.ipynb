{
 "cells": [
  {
   "cell_type": "code",
   "execution_count": null,
   "id": "303b27c0-717b-433f-9885-75472e36efd7",
   "metadata": {},
   "outputs": [],
   "source": [
    "import matching\n",
    "import pandas as pd\n",
    "import numpy as np\n",
    "import matplotlib.pyplot as plt\n",
    "import gc\n",
    "from tqdm import tqdm\n",
    "import sys\n",
    "sys.path.append('/home/yuanlq/xenon/compeaks')\n",
    "import comparison"
   ]
  },
  {
   "cell_type": "code",
   "execution_count": null,
   "id": "1a1591bd-dcbf-4d5e-82a7-72879fad6f1f",
   "metadata": {},
   "outputs": [],
   "source": [
    "import straxen\n",
    "straxen.print_versions()"
   ]
  },
  {
   "cell_type": "code",
   "execution_count": null,
   "id": "9ff75d1a-9a18-4e79-bdff-252c05db55a6",
   "metadata": {},
   "outputs": [],
   "source": [
    "COMPARISON_SPACES1D = ['z', 's1_area', 's1_area_fraction_top', 's1_range_50p_area', 's1_range_90p_area',\n",
    "                       's1_rise_time', 's1_n_channels', 's1_tight_coincidence', 's1_n_hits']\n",
    "COMPARISON_SPACES2D = [('z', 's1_area_fraction_top'),\n",
    "                       ('z', 's1_rise_time'), \n",
    "                       ('z', 's1_range_50p_area'),\n",
    "                       ('z', 's1_range_90p_area'),\n",
    "                       ('z', 's1_area'),\n",
    "                       ('z', 's1_tight_coincidence'),\n",
    "                       ('s1_area_fraction_top','s1_rise_time'),\n",
    "                       ('s1_area', 's1_range_50p_area'),\n",
    "                       ('s1_area', 's1_rise_time')]"
   ]
  },
  {
   "cell_type": "markdown",
   "id": "889b59a6-d809-433f-8e86-0d7e80444453",
   "metadata": {},
   "source": [
    "# Data Loading"
   ]
  },
  {
   "cell_type": "code",
   "execution_count": null,
   "id": "45e12cbd-09f2-4299-8d73-77491617191e",
   "metadata": {},
   "outputs": [],
   "source": [
    "ambe_sr0 = np.load(\"/project2/lgrandi/yuanlq/shared/sr0_ambe_ss.npy\")\n",
    "ambe_sr0 = ambe_sr0[ambe_sr0['z']>-150]\n",
    "ambe_sr0 = ambe_sr0[ambe_sr0['z']<-0.1]\n",
    "ambe_sr0 = ambe_sr0[ambe_sr0['s1_area']<=50]\n",
    "ambe_sr0 = pd.DataFrame(ambe_sr0)\n",
    "\"\"\" Need to add SS cuts\n",
    "daniel1 = np.load('/project2/lgrandi/wenz/strax_data/sr1/ambe/events_topCW5d9m_nv_coincidence_applied.npy')\n",
    "daniel2 = np.load('/project2/lgrandi/wenz/strax_data/sr1/ambe/events_topCW7d8m_nv_coincidence_applied.npy')\n",
    "ambe_sr1 = np.concatenate((daniel1, daniel2))\n",
    "ambe_sr1 = ambe_sr1[ambe_sr1['z']>-150]\n",
    "ambe_sr1 = ambe_sr1[ambe_sr1['z']<-0.1]\n",
    "ambe_sr1 = ambe_sr1[ambe_sr1['s1_area']<50]\n",
    "ambe_sr1 = pd.DataFrame(ambe_sr1)\n",
    "\"\"\""
   ]
  },
  {
   "cell_type": "code",
   "execution_count": null,
   "id": "92280e07-b940-48c9-8b1f-2c75cdd99a11",
   "metadata": {},
   "outputs": [],
   "source": [
    "# Get all SR0 Ar37\n",
    "\"\"\"\n",
    "import cutax\n",
    "st = cutax.xenonnt_v8(output_folder=\"/project2/lgrandi/xenonnt/processed\")\n",
    "ar_runs = st.select_runs(run_mode='tpc_ar37', available=\"event_info\").name\n",
    "st.register_all(cutax.cut_lists.ar37)\n",
    "\n",
    "available=[]\n",
    "for run in ar_runs:\n",
    "    if st.is_stored(run, 'event_info'):\n",
    "        available.append(True)\n",
    "    else:\n",
    "        available.append(False)\n",
    "available=np.array(available)\n",
    "ar_runs = ar_runs[available]\n",
    "\n",
    "for i,run in tqdm(enumerate(ar_runs)):\n",
    "    if i==0:\n",
    "        ar37 = st.get_array(run, ('event_info', 'cuts_ar37_kshell_s1s2'))\n",
    "        ar37 = ar37[ar37['cuts_ar37_kshell_s1s2']]\n",
    "    else:\n",
    "        new = st.get_array(run, ('event_info', 'cuts_ar37_kshell_s1s2'))\n",
    "        new = new[new['cuts_ar37_kshell_s1s2']]\n",
    "        ar37 = np.concatenate((ar37, new))\n",
    "    gc.collect()\n",
    "\n",
    "np.save('/project2/lgrandi/yuanlq/shared/sr0_ar37_k.npy',ar37)\n",
    "\"\"\"\n",
    "ar37_sr0 = np.load('/project2/lgrandi/yuanlq/shared/sr0_ar37_k.npy')\n",
    "ar37_sr0 = ar37_sr0[ar37_sr0['z']>-150]\n",
    "ar37_sr0 = ar37_sr0[ar37_sr0['z']<-0.1]\n",
    "ar37_sr0 = pd.DataFrame(ar37_sr0)"
   ]
  },
  {
   "cell_type": "code",
   "execution_count": null,
   "id": "425b170d-9185-471f-84a9-cab3a370a0c2",
   "metadata": {},
   "outputs": [],
   "source": [
    "len(ar37_sr0)"
   ]
  },
  {
   "cell_type": "code",
   "execution_count": null,
   "id": "49d54972-acbc-4711-b8f8-0e5b5738e7d9",
   "metadata": {},
   "outputs": [],
   "source": [
    "len(ambe_sr0)"
   ]
  },
  {
   "cell_type": "markdown",
   "id": "36b01a99-2704-4d84-89ae-ddb5d5c64180",
   "metadata": {},
   "source": [
    "# Before Matching"
   ]
  },
  {
   "cell_type": "code",
   "execution_count": null,
   "id": "0f60330f-9ed4-4a4c-9dca-c6edfaf342d1",
   "metadata": {},
   "outputs": [],
   "source": [
    "comparison.compare_2para(peak_extra0=ar37_sr0, \n",
    "                         peak_extra1=ambe_sr0, \n",
    "                         signal_type0='Ar37 SR0', \n",
    "                         signal_type1='SS AmBe SR0', \n",
    "                         comparison_spaces = COMPARISON_SPACES2D,\n",
    "                         errorbar = 'mean_error')"
   ]
  },
  {
   "cell_type": "code",
   "execution_count": null,
   "id": "3eaaf195-cd8d-405f-b65f-d71722569baf",
   "metadata": {},
   "outputs": [],
   "source": [
    "comparison.compare_1para(peak_extra0=ar37_sr0,\n",
    "                         peak_extra1=ambe_sr0,\n",
    "                         signal_type0='Ar37 SR0',\n",
    "                         signal_type1='SS AmBe SR0',\n",
    "                         comparison_spaces = COMPARISON_SPACES1D,\n",
    "                         n_x = 50\n",
    "                         )"
   ]
  },
  {
   "cell_type": "markdown",
   "id": "1e1adda0-1883-4af0-8e78-8ff59a4d6099",
   "metadata": {},
   "source": [
    "# After Matching"
   ]
  },
  {
   "cell_type": "markdown",
   "id": "7e85dc62-f246-4195-9c6c-b166b1cb9557",
   "metadata": {},
   "source": [
    "Here we treat Ar37 as \"simulation\" and SS AmBe as \"data\"."
   ]
  },
  {
   "cell_type": "markdown",
   "id": "1fad83c5-1566-48b8-9fb1-abdc0d220fad",
   "metadata": {},
   "source": [
    "Matching: `s1_area_fraction_top`, `s1_n_hits`, `z`"
   ]
  },
  {
   "cell_type": "markdown",
   "id": "51fb43b2-6d47-4764-8738-b652486be4d6",
   "metadata": {},
   "source": [
    "## Match AmBe to Ar37 "
   ]
  },
  {
   "cell_type": "code",
   "execution_count": null,
   "id": "f3dccb6b-18c6-4dff-b504-7c3d7b952e98",
   "metadata": {},
   "outputs": [],
   "source": [
    "inf = matching.inference.Inference(data=ambe_sr0, simu=ar37_sr0[:300000], \n",
    "                                   covariates=['s1_area_fraction_top', 's1_n_hits', 'z'])"
   ]
  },
  {
   "cell_type": "code",
   "execution_count": null,
   "id": "944ca082-5c72-4380-8cfa-15c3cc84cc08",
   "metadata": {},
   "outputs": [],
   "source": [
    "matched_ambe = inf.match_simu()"
   ]
  },
  {
   "cell_type": "code",
   "execution_count": null,
   "id": "9344e624-2d52-407a-bb09-3289adcd2a18",
   "metadata": {},
   "outputs": [],
   "source": [
    "comparison.compare_2para(peak_extra0=ar37_sr0[:300000], \n",
    "                         peak_extra1=matched_ambe, \n",
    "                         signal_type0='Ar37 SR0', \n",
    "                         signal_type1='Matched SS AmBe SR0', \n",
    "                         comparison_spaces = COMPARISON_SPACES2D,\n",
    "                         errorbar = 'mean_error')"
   ]
  },
  {
   "cell_type": "code",
   "execution_count": null,
   "id": "efa02685-1494-4f0f-8f84-252fd5b59633",
   "metadata": {},
   "outputs": [],
   "source": [
    "comparison.compare_1para(peak_extra0=ar37_sr0[:300000],\n",
    "                         peak_extra1=matched_ambe,\n",
    "                         signal_type0='Ar37 SR0',\n",
    "                         signal_type1='Matched SS AmBe SR0',\n",
    "                         comparison_spaces = COMPARISON_SPACES1D,\n",
    "                         n_x = 50\n",
    "                         )"
   ]
  },
  {
   "cell_type": "markdown",
   "id": "66e657b5-e9c1-4572-915c-540c8f5f6e0a",
   "metadata": {},
   "source": [
    "## Match Ar37 to AmBe"
   ]
  },
  {
   "cell_type": "code",
   "execution_count": null,
   "id": "6f3c79dd-1c8b-4db7-a447-94a22bb278eb",
   "metadata": {
    "tags": []
   },
   "outputs": [],
   "source": [
    "inf = matching.inference.Inference(data=ar37_sr0[:300000], simu=ambe_sr0, \n",
    "                                   covariates=['s1_area_fraction_top', 's1_n_hits', 'z'])"
   ]
  },
  {
   "cell_type": "code",
   "execution_count": null,
   "id": "958b8fa2-f895-4e06-a545-10f1456528e4",
   "metadata": {},
   "outputs": [],
   "source": [
    "matched_ar37 = inf.match_simu()"
   ]
  },
  {
   "cell_type": "code",
   "execution_count": null,
   "id": "0d17074b-4c68-4e19-9bf3-e278b5fd2386",
   "metadata": {},
   "outputs": [],
   "source": [
    "comparison.compare_2para(peak_extra0= matched_ar37, \n",
    "                         peak_extra1= ambe_sr0, \n",
    "                         signal_type0='Matched Ar37 SR0', \n",
    "                         signal_type1='SS AmBe SR0', \n",
    "                         comparison_spaces = COMPARISON_SPACES2D,\n",
    "                         errorbar = 'mean_error')"
   ]
  },
  {
   "cell_type": "code",
   "execution_count": null,
   "id": "175d56d3-6c1e-45d4-99ff-aed4ba85f392",
   "metadata": {},
   "outputs": [],
   "source": [
    "comparison.compare_1para(peak_extra0= matched_ar37, \n",
    "                         peak_extra1= ambe_sr0, \n",
    "                         signal_type0='Matched Ar37 SR0', \n",
    "                         signal_type1='SS AmBe SR0', \n",
    "                         comparison_spaces = COMPARISON_SPACES1D,\n",
    "                         n_x = 50\n",
    "                         )"
   ]
  },
  {
   "cell_type": "code",
   "execution_count": null,
   "id": "038b8808-2a4e-4388-8bb2-4f8bd772f0e8",
   "metadata": {},
   "outputs": [],
   "source": []
  }
 ],
 "metadata": {
  "kernelspec": {
   "display_name": "Python 3 (ipykernel)",
   "language": "python",
   "name": "python3"
  },
  "language_info": {
   "codemirror_mode": {
    "name": "ipython",
    "version": 3
   },
   "file_extension": ".py",
   "mimetype": "text/x-python",
   "name": "python",
   "nbconvert_exporter": "python",
   "pygments_lexer": "ipython3",
   "version": "3.8.13"
  }
 },
 "nbformat": 4,
 "nbformat_minor": 5
}
