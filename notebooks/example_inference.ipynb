{
 "cells": [
  {
   "cell_type": "markdown",
   "id": "24577fde-a868-4980-9486-659767c49be7",
   "metadata": {},
   "source": [
    "Lanqing, Aug 21 2023"
   ]
  },
  {
   "cell_type": "markdown",
   "id": "c2ebb581-69b9-4507-a320-c9d1a7bdfa78",
   "metadata": {},
   "source": [
    "This notebook shows a minimal example of using matching method to do data causal inference. In this example, we did:\n",
    "\n",
    "- Comparison of Kr83m S1 pulse shape SR0 VS SR1\n",
    "- Comaprison of S1 pulse shape AmBe VS Ar37\n",
    "- Comparison of S1 pulse shape AmBe VS Rn220\n",
    "- Comparison of S1 pulse shape Ar37 VS Rn220\n",
    "\n",
    "NB: to run this notebook, you probably need at least 16 GB RAM! "
   ]
  },
  {
   "cell_type": "code",
   "execution_count": null,
   "id": "cb4e175c-8af4-43fa-a04d-68d803832070",
   "metadata": {},
   "outputs": [],
   "source": [
    "import warnings\n",
    "# Ignore all warnings\n",
    "warnings.filterwarnings('ignore')\n",
    "\n",
    "import matching\n",
    "import pandas as pd\n",
    "import numpy as np\n",
    "import matplotlib.pyplot as plt\n",
    "import gc\n",
    "from tqdm import tqdm\n",
    "import sys\n",
    "\n",
    "# You need to git pull yourself: https://github.com/FaroutYLq/compeaks\n",
    "sys.path.append('/home/yuanlq/xenon/compeaks')\n",
    "import comparison"
   ]
  },
  {
   "cell_type": "code",
   "execution_count": null,
   "id": "1a1591bd-dcbf-4d5e-82a7-72879fad6f1f",
   "metadata": {},
   "outputs": [],
   "source": [
    "import straxen\n",
    "import strax\n",
    "straxen.print_versions()"
   ]
  },
  {
   "cell_type": "markdown",
   "id": "50b57d9d-4ca5-45a1-ada3-e47dda99aff4",
   "metadata": {},
   "source": [
    "# Difference of S1 Pulse Shape SR0 VS SR1"
   ]
  },
  {
   "cell_type": "code",
   "execution_count": null,
   "id": "08d753de-0675-44c0-a7e2-fc9d5cd83f26",
   "metadata": {},
   "outputs": [],
   "source": [
    "COMPARISON_SPACES1D = ['z', 's1_a_area', 's1_a_area_fraction_top', 's1_a_range_50p_area', 's1_a_range_90p_area',\n",
    "                       's1_a_rise_time', 's1_a_n_channels', 's1_a_tight_coincidence', 's1_a_n_hits']\n",
    "COMPARISON_SPACES2D = [('z', 's1_a_area_fraction_top'),\n",
    "                       ('z', 's1_a_rise_time'), \n",
    "                       ('z', 's1_a_range_50p_area'),\n",
    "                       ('z', 's1_a_range_90p_area'),\n",
    "                       ('z', 's1_a_area'),\n",
    "                       ('z', 's1_a_tight_coincidence'),\n",
    "                       ('s1_a_area_fraction_top','s1_a_rise_time'),\n",
    "                       ('s1_a_area', 's1_a_range_50p_area'),\n",
    "                       ('s1_a_area', 's1_a_rise_time')]"
   ]
  },
  {
   "cell_type": "markdown",
   "id": "9a252f90-3f2e-4f8b-a4bc-9e3043220262",
   "metadata": {},
   "source": [
    "## Data Loading"
   ]
  },
  {
   "cell_type": "code",
   "execution_count": null,
   "id": "e85fc44e-f356-4696-8aac-ac9a167f7433",
   "metadata": {
    "tags": []
   },
   "outputs": [],
   "source": [
    "kr_sr0 = np.load(\"/project2/lgrandi/yuanlq/shared/matching_examples/sr0_kr83m_DoubleS1SingleS2.npy\")\n",
    "kr_sr1aug = np.load(\"/project2/lgrandi/yuanlq/shared/matching_examples/sr1_kr83m_DoubleS1SingleS2_Aug2022.npy\")"
   ]
  },
  {
   "cell_type": "markdown",
   "id": "5fbb7505-080b-4865-a29e-92c452b36330",
   "metadata": {},
   "source": [
    "## Before Matching"
   ]
  },
  {
   "cell_type": "code",
   "execution_count": null,
   "id": "80f6a504-34f3-40a7-b9dc-68c5d9dd1928",
   "metadata": {
    "tags": []
   },
   "outputs": [],
   "source": [
    "comparison.compare_1para(peak_extra0=kr_sr0,\n",
    "                         peak_extra1=kr_sr1aug,\n",
    "                         signal_type0='KrS1A SR0',\n",
    "                         signal_type1='KrS1A SR1 (Aug 2022)',\n",
    "                         comparison_spaces = COMPARISON_SPACES1D,\n",
    "                         n_x = 18)"
   ]
  },
  {
   "cell_type": "code",
   "execution_count": null,
   "id": "fb6b99b0-d9a0-4b17-8ab6-672ab7561564",
   "metadata": {},
   "outputs": [],
   "source": [
    "comparison.compare_2para(peak_extra0=kr_sr0, \n",
    "                         peak_extra1=kr_sr1aug, \n",
    "                         signal_type0='KrS1A SR0', \n",
    "                         signal_type1='KrS1A SR1 (Aug 2022)', \n",
    "                         comparison_spaces = COMPARISON_SPACES2D,\n",
    "                         errorbar = 'mean_error')"
   ]
  },
  {
   "cell_type": "markdown",
   "id": "1ec2980d-c667-4a02-95fa-c3d6f470f961",
   "metadata": {},
   "source": [
    "## After Matching"
   ]
  },
  {
   "cell_type": "code",
   "execution_count": null,
   "id": "c09d1ee1-9417-414e-95b0-4f5444384e9f",
   "metadata": {
    "tags": []
   },
   "outputs": [],
   "source": [
    "inf = matching.inference.Inference(data=kr_sr0, simu=kr_sr1aug, \n",
    "                                   covariates=['s1_a_area_fraction_top', 's1_a_n_hits', 'z']);"
   ]
  },
  {
   "cell_type": "code",
   "execution_count": null,
   "id": "7c01bced-a746-48db-85f5-17df70e95c5f",
   "metadata": {},
   "outputs": [],
   "source": [
    "matched_kr_sr0 = inf.match_simu()\n",
    "matched_kr_sr1aug = inf.simu"
   ]
  },
  {
   "cell_type": "code",
   "execution_count": null,
   "id": "ce9a03aa-c316-4aef-8110-ef84e97fa6a9",
   "metadata": {},
   "outputs": [],
   "source": [
    "comparison.compare_2para(peak_extra0=matched_kr_sr0, \n",
    "                         peak_extra1=matched_kr_sr1aug, \n",
    "                         signal_type0='Matched KrS1A SR0', \n",
    "                         signal_type1='Matched KrS1A SR1 (Aug 2022)', \n",
    "                         comparison_spaces = COMPARISON_SPACES2D,\n",
    "                         errorbar = 'mean_error')"
   ]
  },
  {
   "cell_type": "code",
   "execution_count": null,
   "id": "1f17567a-b996-4626-b6f7-bd9dce3b4732",
   "metadata": {},
   "outputs": [],
   "source": [
    "comparison.compare_1para(peak_extra0=matched_kr_sr0,\n",
    "                         peak_extra1=matched_kr_sr1aug,\n",
    "                         signal_type0='KrS1A SR0',\n",
    "                         signal_type1='KrS1A SR1 (Aug 2022)',\n",
    "                         comparison_spaces = COMPARISON_SPACES1D,\n",
    "                         n_x = 18)"
   ]
  },
  {
   "cell_type": "markdown",
   "id": "c5bca274-d038-4c39-8de5-7c007ccabaae",
   "metadata": {},
   "source": [
    "# Can We See S1 Pulse Shape Difference in NR VS ER?"
   ]
  },
  {
   "cell_type": "code",
   "execution_count": null,
   "id": "30a3822e-ca2c-40ff-a9fa-a1fc14f88209",
   "metadata": {},
   "outputs": [],
   "source": [
    "COMPARISON_SPACES1D = ['z', 's1_area', 's1_area_fraction_top', 's1_range_50p_area', 's1_range_90p_area',\n",
    "                       's1_rise_time', 's1_n_channels', 's1_tight_coincidence', 's1_n_hits']\n",
    "COMPARISON_SPACES2D = [('z', 's1_area_fraction_top'),\n",
    "                       ('z', 's1_rise_time'), \n",
    "                       ('z', 's1_range_50p_area'),\n",
    "                       ('z', 's1_range_90p_area'),\n",
    "                       ('z', 's1_area'),\n",
    "                       ('z', 's1_tight_coincidence'),\n",
    "                       ('s1_area_fraction_top','s1_rise_time'),\n",
    "                       ('s1_area', 's1_range_50p_area'),\n",
    "                       ('s1_area', 's1_rise_time')]"
   ]
  },
  {
   "cell_type": "markdown",
   "id": "889b59a6-d809-433f-8e86-0d7e80444453",
   "metadata": {},
   "source": [
    "## Data Loading"
   ]
  },
  {
   "cell_type": "code",
   "execution_count": null,
   "id": "45e12cbd-09f2-4299-8d73-77491617191e",
   "metadata": {},
   "outputs": [],
   "source": [
    "ambe_sr0 = np.load(\"/project2/lgrandi/yuanlq/shared/matching_examples/sr0_ambe_ss.npy\")\n",
    "ambe_sr0 = ambe_sr0[ambe_sr0['z']>-149]\n",
    "ambe_sr0 = ambe_sr0[ambe_sr0['z']<-1]\n",
    "ambe_sr0 = ambe_sr0[ambe_sr0['s1_area']<=50]\n",
    "ambe_sr0 = pd.DataFrame(ambe_sr0)\n",
    "\"\"\" Need to add SS cuts\n",
    "daniel1 = np.load('/project2/lgrandi/wenz/strax_data/sr1/ambe/events_topCW5d9m_nv_coincidence_applied.npy')\n",
    "daniel2 = np.load('/project2/lgrandi/wenz/strax_data/sr1/ambe/events_topCW7d8m_nv_coincidence_applied.npy')\n",
    "ambe_sr1 = np.concatenate((daniel1, daniel2))\n",
    "ambe_sr1 = ambe_sr1[ambe_sr1['z']>-150]\n",
    "ambe_sr1 = ambe_sr1[ambe_sr1['z']<-0.1]\n",
    "ambe_sr1 = ambe_sr1[ambe_sr1['s1_area']<50]\n",
    "ambe_sr1 = pd.DataFrame(ambe_sr1)\n",
    "\"\"\""
   ]
  },
  {
   "cell_type": "code",
   "execution_count": null,
   "id": "92280e07-b940-48c9-8b1f-2c75cdd99a11",
   "metadata": {},
   "outputs": [],
   "source": [
    "# Get all SR0 Ar37\n",
    "\"\"\"\n",
    "import cutax\n",
    "st = cutax.xenonnt_v8(output_folder=\"/project2/lgrandi/xenonnt/processed\")\n",
    "ar_runs = st.select_runs(run_mode='tpc_ar37', available=\"event_info\").name\n",
    "st.register_all(cutax.cut_lists.ar37)\n",
    "\n",
    "available=[]\n",
    "for run in ar_runs:\n",
    "    if st.is_stored(run, 'event_info'):\n",
    "        available.append(True)\n",
    "    else:\n",
    "        available.append(False)\n",
    "available=np.array(available)\n",
    "ar_runs = ar_runs[available]\n",
    "\n",
    "for i,run in tqdm(enumerate(ar_runs)):\n",
    "    if i==0:\n",
    "        ar37 = st.get_array(run, ('event_info', 'cuts_ar37_kshell_s1s2'))\n",
    "        ar37 = ar37[ar37['cuts_ar37_kshell_s1s2']]\n",
    "    else:\n",
    "        new = st.get_array(run, ('event_info', 'cuts_ar37_kshell_s1s2'))\n",
    "        new = new[new['cuts_ar37_kshell_s1s2']]\n",
    "        ar37 = np.concatenate((ar37, new))\n",
    "    gc.collect()\n",
    "\n",
    "np.save('/project2/lgrandi/yuanlq/shared/matching_examples/sr0_ar37_k.npy',ar37)\n",
    "\"\"\"\n",
    "ar37_sr0 = np.load('/project2/lgrandi/yuanlq/shared/matching_examples/sr0_ar37_k.npy')\n",
    "ar37_sr0 = ar37_sr0[ar37_sr0['z']>-149]\n",
    "ar37_sr0 = ar37_sr0[ar37_sr0['z']<-1]\n",
    "ar37_sr0 = pd.DataFrame(ar37_sr0)"
   ]
  },
  {
   "cell_type": "code",
   "execution_count": null,
   "id": "fe74a8b0-03f2-4276-9f92-6e7d56102d30",
   "metadata": {
    "scrolled": true
   },
   "outputs": [],
   "source": [
    "\"\"\"\n",
    "import cutax\n",
    "st = cutax.xenonnt_offline()\n",
    "rn_runs = st.select_runs(run_mode=('tpc_radon_hev', 'tpc_radon'), available=\"cuts_basic\").name\n",
    "st.register_all(cutax.cut_lists.rn220)\n",
    "\n",
    "available=[]\n",
    "for run in rn_runs:\n",
    "    if st.is_stored(run, 'event_info'):\n",
    "        available.append(True)\n",
    "    else:\n",
    "        available.append(False)\n",
    "available=np.array(available)\n",
    "rn_runs = rn_runs[available]\n",
    "\n",
    "for i,run in tqdm(enumerate(rn_runs)):\n",
    "    if i==0:\n",
    "        rn220 = st.get_array(run, ('event_info', 'cuts_rn220'))\n",
    "        rn220 = rn220[rn220['cuts_rn220']]\n",
    "    else:\n",
    "        new = st.get_array(run, ('event_info', 'cuts_rn220'))\n",
    "        new = new[new['cuts_rn220']]\n",
    "        rn220 = np.concatenate((rn220, new))\n",
    "    gc.collect()\n",
    "np.save('/project2/lgrandi/yuanlq/shared/matching_examples/sr1_rn220.npy',rn220)\n",
    "\"\"\"\n",
    "\n",
    "rn220_sr1 = np.load('/project2/lgrandi/yuanlq/shared/matching_examples/sr1_rn220.npy')\n",
    "rn220_sr1 = rn220_sr1[rn220_sr1['z']>-149]\n",
    "rn220_sr1 = rn220_sr1[rn220_sr1['z']<-1]\n",
    "rn220_sr1 = pd.DataFrame(rn220_sr1)\n",
    "rn220_sr1 = rn220_sr1[rn220_sr1['s1_area']<50]"
   ]
  },
  {
   "cell_type": "code",
   "execution_count": null,
   "id": "ed6b4005-9585-4c5d-8d0a-dc253390eba3",
   "metadata": {
    "tags": []
   },
   "outputs": [],
   "source": [
    "\"\"\"\n",
    "import cutax\n",
    "st = cutax.xenonnt_v8(_rucio_local_path='/project/lgrandi/rucio', include_rucio_local = True)\n",
    "st.storage.append(strax.DataDirectory(\"/project2/lgrandi/xenonnt/processed/\", readonly=True))\n",
    "rn_runs = st.select_runs(run_mode=('tpc_radon_hev', 'tpc_radon'), available=\"event_info\").name\n",
    "st.register_all(cutax.cut_lists.rn220)\n",
    "\n",
    "available=[]\n",
    "for run in rn_runs:\n",
    "    if st.is_stored(run, 'event_info'):\n",
    "        available.append(True)\n",
    "    else:\n",
    "        available.append(False)\n",
    "available=np.array(available)\n",
    "rn_runs = rn_runs[available]\n",
    "\n",
    "for i,run in tqdm(enumerate(rn_runs)):\n",
    "    if i==0:\n",
    "        rn220 = st.get_array(run, ('event_info', 'cuts_rn220'))\n",
    "        rn220 = rn220[rn220['cuts_rn220']]\n",
    "    else:\n",
    "        new = st.get_array(run, ('event_info', 'cuts_rn220'))\n",
    "        new = new[new['cuts_rn220']]\n",
    "        rn220 = np.concatenate((rn220, new))\n",
    "    gc.collect()\n",
    "np.save('/project2/lgrandi/yuanlq/shared/matching_examples/sr0_rn220.npy',rn220)\n",
    "\"\"\"\n",
    "\n",
    "rn220_sr0 = np.load('/project2/lgrandi/yuanlq/shared/matching_examples/sr0_rn220.npy')\n",
    "rn220_sr0 = rn220_sr0[rn220_sr0['z']>-149]\n",
    "rn220_sr0 = rn220_sr0[rn220_sr0['z']<-1]\n",
    "rn220_sr0 = pd.DataFrame(rn220_sr0)\n",
    "rn220_sr0 = rn220_sr0[rn220_sr0['s1_area']<50]"
   ]
  },
  {
   "cell_type": "code",
   "execution_count": null,
   "id": "425b170d-9185-471f-84a9-cab3a370a0c2",
   "metadata": {},
   "outputs": [],
   "source": [
    "len(ar37_sr0)"
   ]
  },
  {
   "cell_type": "code",
   "execution_count": null,
   "id": "49d54972-acbc-4711-b8f8-0e5b5738e7d9",
   "metadata": {
    "tags": []
   },
   "outputs": [],
   "source": [
    "len(ambe_sr0)"
   ]
  },
  {
   "cell_type": "code",
   "execution_count": null,
   "id": "bc57649c-0915-44cb-b6fa-8d8114e6e711",
   "metadata": {},
   "outputs": [],
   "source": [
    "rn220 = pd.concat((rn220_sr0, rn220_sr1))\n",
    "len(rn220)"
   ]
  },
  {
   "cell_type": "markdown",
   "id": "36b01a99-2704-4d84-89ae-ddb5d5c64180",
   "metadata": {},
   "source": [
    "## Before Matching"
   ]
  },
  {
   "cell_type": "code",
   "execution_count": null,
   "id": "63ca92ac-f6cf-45a9-ae0b-e482d106ca67",
   "metadata": {},
   "outputs": [],
   "source": [
    "comparison.compare_2para(peak_extra0=rn220, \n",
    "                         peak_extra1=ambe_sr0, \n",
    "                         signal_type0='Rn220 SR0+SR1', \n",
    "                         signal_type1='SS AmBe SR0', \n",
    "                         comparison_spaces = COMPARISON_SPACES2D,\n",
    "                         errorbar = 'mean_error')"
   ]
  },
  {
   "cell_type": "code",
   "execution_count": null,
   "id": "0f60330f-9ed4-4a4c-9dca-c6edfaf342d1",
   "metadata": {},
   "outputs": [],
   "source": [
    "comparison.compare_2para(peak_extra0=ar37_sr0, \n",
    "                         peak_extra1=ambe_sr0, \n",
    "                         signal_type0='Ar37 SR0', \n",
    "                         signal_type1='SS AmBe SR0', \n",
    "                         comparison_spaces = COMPARISON_SPACES2D,\n",
    "                         errorbar = 'mean_error')"
   ]
  },
  {
   "cell_type": "code",
   "execution_count": null,
   "id": "ba6b8c99-5038-41b7-8765-162c5eabe50b",
   "metadata": {},
   "outputs": [],
   "source": [
    "comparison.compare_1para(peak_extra0=rn220,\n",
    "                         peak_extra1=ambe_sr0,\n",
    "                         signal_type0='Rn220 SR0+SR1',\n",
    "                         signal_type1='SS AmBe SR0',\n",
    "                         comparison_spaces = COMPARISON_SPACES1D,\n",
    "                         n_x = 18\n",
    "                         )"
   ]
  },
  {
   "cell_type": "code",
   "execution_count": null,
   "id": "3eaaf195-cd8d-405f-b65f-d71722569baf",
   "metadata": {},
   "outputs": [],
   "source": [
    "comparison.compare_1para(peak_extra0=ar37_sr0,\n",
    "                         peak_extra1=ambe_sr0,\n",
    "                         signal_type0='Ar37 SR0',\n",
    "                         signal_type1='SS AmBe SR0',\n",
    "                         comparison_spaces = COMPARISON_SPACES1D,\n",
    "                         n_x = 18\n",
    "                         )"
   ]
  },
  {
   "cell_type": "markdown",
   "id": "1e1adda0-1883-4af0-8e78-8ff59a4d6099",
   "metadata": {},
   "source": [
    "## After Matching"
   ]
  },
  {
   "cell_type": "markdown",
   "id": "7e85dc62-f246-4195-9c6c-b166b1cb9557",
   "metadata": {},
   "source": [
    "Here we treat Ar37 as \"simulation\" and SS AmBe as \"data\"."
   ]
  },
  {
   "cell_type": "markdown",
   "id": "1fad83c5-1566-48b8-9fb1-abdc0d220fad",
   "metadata": {},
   "source": [
    "Matching: `s1_area_fraction_top`, `s1_n_hits`, `z`"
   ]
  },
  {
   "cell_type": "markdown",
   "id": "8a8d2762-48cf-47b8-848d-387d0b82655a",
   "metadata": {},
   "source": [
    "### Match Rn220 to AmBe"
   ]
  },
  {
   "cell_type": "code",
   "execution_count": null,
   "id": "cd90f1cb-3581-43aa-8ef9-be4337b12228",
   "metadata": {},
   "outputs": [],
   "source": [
    "inf = matching.inference.Inference(data=ambe_sr0, simu=rn220, \n",
    "                                   covariates=['s1_area_fraction_top', 's1_n_hits', 'z']);\n",
    "matched_ambe = inf.match_simu()\n",
    "matched_rn220 = inf.simu"
   ]
  },
  {
   "cell_type": "code",
   "execution_count": null,
   "id": "e52af40b-e21b-471c-a984-415fec36bfdf",
   "metadata": {},
   "outputs": [],
   "source": [
    "comparison.compare_2para(peak_extra0=matched_rn220, \n",
    "                         peak_extra1=matched_ambe, \n",
    "                         signal_type0='Matched Rn220 SR0+SR1', \n",
    "                         signal_type1='Matched SS AmBe SR0', \n",
    "                         comparison_spaces = COMPARISON_SPACES2D,\n",
    "                         errorbar = 'mean_error')"
   ]
  },
  {
   "cell_type": "code",
   "execution_count": null,
   "id": "7fd7264d-84b7-45e9-af7a-829dcd5eb8d1",
   "metadata": {},
   "outputs": [],
   "source": [
    "comparison.compare_1para(peak_extra0=matched_rn220,\n",
    "                         peak_extra1=matched_ambe,\n",
    "                         signal_type0='Matched Rn220 SR0+SR1', \n",
    "                         signal_type1='Matched SS AmBe SR0', \n",
    "                         comparison_spaces = COMPARISON_SPACES1D,\n",
    "                         n_x = 18\n",
    "                         )"
   ]
  },
  {
   "cell_type": "markdown",
   "id": "25cd6e73-6e5b-468d-a139-adb419262ea1",
   "metadata": {},
   "source": [
    "### Match Rn220 to Ar37"
   ]
  },
  {
   "cell_type": "code",
   "execution_count": null,
   "id": "337e52e4-78c1-429a-bd10-93b1e9e7cad8",
   "metadata": {},
   "outputs": [],
   "source": [
    "inf = matching.inference.Inference(data=ar37_sr0[:300000], simu=rn220, \n",
    "                                   covariates=['s1_area_fraction_top', 's1_n_hits', 'z']);\n",
    "matched_ar37 = inf.match_simu()\n",
    "matched_rn220 = inf.simu"
   ]
  },
  {
   "cell_type": "code",
   "execution_count": null,
   "id": "0fd07b65-7b11-4fdc-83e5-58a5f85401e6",
   "metadata": {},
   "outputs": [],
   "source": [
    "comparison.compare_2para(peak_extra0=matched_rn220, \n",
    "                         peak_extra1=matched_ar37, \n",
    "                         signal_type0='Matched Rn220 SR0+SR1', \n",
    "                         signal_type1='Matched Ar37 SR0', \n",
    "                         comparison_spaces = COMPARISON_SPACES2D,\n",
    "                         errorbar = 'mean_error')"
   ]
  },
  {
   "cell_type": "code",
   "execution_count": null,
   "id": "419a7c6b-36e9-4e33-9d2e-169d4bcece48",
   "metadata": {},
   "outputs": [],
   "source": [
    "comparison.compare_1para(peak_extra0=matched_rn220, \n",
    "                         peak_extra1=matched_ar37, \n",
    "                         signal_type0='Matched Rn220 SR0+SR1', \n",
    "                         signal_type1='Matched Ar37 SR0', \n",
    "                         comparison_spaces = COMPARISON_SPACES1D,\n",
    "                         n_x = 18)"
   ]
  },
  {
   "cell_type": "markdown",
   "id": "51fb43b2-6d47-4764-8738-b652486be4d6",
   "metadata": {},
   "source": [
    "### Match AmBe to Ar37 "
   ]
  },
  {
   "cell_type": "code",
   "execution_count": null,
   "id": "f3dccb6b-18c6-4dff-b504-7c3d7b952e98",
   "metadata": {
    "tags": []
   },
   "outputs": [],
   "source": [
    "inf = matching.inference.Inference(data=ambe_sr0, simu=ar37_sr0[:300000], \n",
    "                                   covariates=['s1_area_fraction_top', 's1_n_hits', 'z']);"
   ]
  },
  {
   "cell_type": "code",
   "execution_count": null,
   "id": "944ca082-5c72-4380-8cfa-15c3cc84cc08",
   "metadata": {},
   "outputs": [],
   "source": [
    "matched_ambe = inf.match_simu()\n",
    "matched_ar37 = inf.simu"
   ]
  },
  {
   "cell_type": "code",
   "execution_count": null,
   "id": "9344e624-2d52-407a-bb09-3289adcd2a18",
   "metadata": {},
   "outputs": [],
   "source": [
    "comparison.compare_2para(peak_extra0=matched_ar37, \n",
    "                         peak_extra1=matched_ambe, \n",
    "                         signal_type0='Matched Ar37 SR0', \n",
    "                         signal_type1='Matched SS AmBe SR0', \n",
    "                         comparison_spaces = COMPARISON_SPACES2D,\n",
    "                         errorbar = 'mean_error')"
   ]
  },
  {
   "cell_type": "code",
   "execution_count": null,
   "id": "efa02685-1494-4f0f-8f84-252fd5b59633",
   "metadata": {},
   "outputs": [],
   "source": [
    "comparison.compare_1para(peak_extra0=matched_ar37,\n",
    "                         peak_extra1=matched_ambe,\n",
    "                         signal_type0='Ar37 SR0',\n",
    "                         signal_type1='Matched SS AmBe SR0',\n",
    "                         comparison_spaces = COMPARISON_SPACES1D,\n",
    "                         n_x = 18\n",
    "                         )"
   ]
  },
  {
   "cell_type": "markdown",
   "id": "66e657b5-e9c1-4572-915c-540c8f5f6e0a",
   "metadata": {},
   "source": [
    "### Match Ar37 to AmBe"
   ]
  },
  {
   "cell_type": "code",
   "execution_count": null,
   "id": "6f3c79dd-1c8b-4db7-a447-94a22bb278eb",
   "metadata": {
    "tags": []
   },
   "outputs": [],
   "source": [
    "inf = matching.inference.Inference(data=ar37_sr0[:300000], simu=ambe_sr0, \n",
    "                                   covariates=['s1_area_fraction_top', 's1_n_hits', 'z']);"
   ]
  },
  {
   "cell_type": "code",
   "execution_count": null,
   "id": "958b8fa2-f895-4e06-a545-10f1456528e4",
   "metadata": {},
   "outputs": [],
   "source": [
    "matched_ar37 = inf.match_simu()\n",
    "matched_ambe = inf.simu"
   ]
  },
  {
   "cell_type": "code",
   "execution_count": null,
   "id": "0d17074b-4c68-4e19-9bf3-e278b5fd2386",
   "metadata": {},
   "outputs": [],
   "source": [
    "comparison.compare_2para(peak_extra0= matched_ar37, \n",
    "                         peak_extra1= matched_ambe, \n",
    "                         signal_type0='Matched Ar37 SR0', \n",
    "                         signal_type1='SS AmBe SR0', \n",
    "                         comparison_spaces = COMPARISON_SPACES2D,\n",
    "                         errorbar = 'mean_error')"
   ]
  },
  {
   "cell_type": "code",
   "execution_count": null,
   "id": "175d56d3-6c1e-45d4-99ff-aed4ba85f392",
   "metadata": {},
   "outputs": [],
   "source": [
    "comparison.compare_1para(peak_extra0= matched_ar37, \n",
    "                         peak_extra1= matched_ambe, \n",
    "                         signal_type0='Matched Ar37 SR0', \n",
    "                         signal_type1='SS AmBe SR0', \n",
    "                         comparison_spaces = COMPARISON_SPACES1D,\n",
    "                         n_x = 18\n",
    "                         )"
   ]
  },
  {
   "cell_type": "code",
   "execution_count": null,
   "id": "95d5d033-923d-43af-9c7c-8ea6b8603485",
   "metadata": {},
   "outputs": [],
   "source": []
  }
 ],
 "metadata": {
  "kernelspec": {
   "display_name": "Python 3 (ipykernel)",
   "language": "python",
   "name": "python3"
  },
  "language_info": {
   "codemirror_mode": {
    "name": "ipython",
    "version": 3
   },
   "file_extension": ".py",
   "mimetype": "text/x-python",
   "name": "python",
   "nbconvert_exporter": "python",
   "pygments_lexer": "ipython3",
   "version": "3.9.17"
  }
 },
 "nbformat": 4,
 "nbformat_minor": 5
}
