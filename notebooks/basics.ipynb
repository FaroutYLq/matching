{
 "cells": [
  {
   "cell_type": "markdown",
   "id": "627c5508-be87-4f57-9d24-1533f123ba25",
   "metadata": {
    "tags": []
   },
   "source": [
    "Lanqing, May 17 2023"
   ]
  },
  {
   "cell_type": "markdown",
   "id": "d2f862c2-b41e-4717-a3c9-1eb5d3c8550c",
   "metadata": {},
   "source": [
    "This is a minimal example and introduction to matching method. Here we consdier such a situation:\n",
    "- There is two datasets, one called `data` and one called `simu`. Each dataset has 3 dimensions: `x,y,z`, and they could be correlated to each other.\n",
    "- `data` is obtained from some experiment. It probably contains some unknown new physics which will take effect only in the interested variable `x`.\n",
    "- `simu` is a model you have to understand the data you collected. In `simu` we assuemd no such new physics. It is assumed to be perfectly describing distribution $P(x|y,z)$ when there is no new physics. However, $P(y,z)$ could be generated arbitrarily, and is uncorrelated to new physics.\n",
    "- In a general case, your simulation or model might have a different distribution to data observed, in the coordiantes `y`, `z` where you expect no effect from new physics. \n",
    "- To compare apple to apple and claim new physics based on variable `x`, you hope to compare `data` and `simu` when they have the same 2D distribution in `y` and `z`."
   ]
  },
  {
   "cell_type": "markdown",
   "id": "ad11eea7-de64-468d-9d27-ca5532693580",
   "metadata": {},
   "source": [
    "Matching method is a concept from statistical inference, and it does the job for you to make sure `y-z` 2D distribution will be the same for `data` and `simu`."
   ]
  },
  {
   "cell_type": "markdown",
   "id": "060fa0b0-3067-4578-af45-10e430c5db1a",
   "metadata": {},
   "source": [
    "## Dataset Preparation"
   ]
  },
  {
   "cell_type": "code",
   "execution_count": null,
   "id": "b8490824-4812-46ad-9518-bf725ba0e5ba",
   "metadata": {},
   "outputs": [],
   "source": [
    "import warnings\n",
    "# Ignore all warnings\n",
    "warnings.filterwarnings('ignore')\n",
    "\n",
    "import matching\n",
    "import pandas as pd\n",
    "import numpy as np\n",
    "import matplotlib.pyplot as plt\n",
    "import gc\n",
    "from tqdm import tqdm\n",
    "import sys\n",
    "\n",
    "from ipywidgets import interact, fixed"
   ]
  },
  {
   "cell_type": "markdown",
   "id": "07dd0f38-298b-48df-912f-f77d422b92fb",
   "metadata": {},
   "source": [
    "Prepare datasets:\n",
    "- `simu` will be a Gaussian 3D distribution.    \n",
    "- `data` will be another Gaussian 3D distribution, with different orientation and more smearing.   "
   ]
  },
  {
   "cell_type": "code",
   "execution_count": null,
   "id": "6020efa4-3258-4ee4-95ed-ce03d7a2b5a9",
   "metadata": {},
   "outputs": [],
   "source": [
    "# Define the mean and covariance matrix\n",
    "mean_simu = [0, 0, 0]\n",
    "covariance_simu = [\n",
    "    [1, 0.7, 0.5],\n",
    "    [0.1, 0.2, 0.1],\n",
    "    [0.3, 0.6, 0.3],\n",
    "]\n",
    "mean_data = [0.5, -1, 0.8]\n",
    "covariance_data = [\n",
    "    [1.5, -0.7, -0.5],\n",
    "    [-0.1, 2, 0.1],\n",
    "    [0.3, -0.6, 2.8],\n",
    "]\n",
    "\n",
    "# Generate a 3D Gaussian distribution with the specified mean and covariance as simulation (model)\n",
    "num_simu = 20000\n",
    "simu = pd.DataFrame(np.random.multivariate_normal(mean_simu, covariance_simu, num_simu), columns=['x', 'y', 'z'])\n",
    "\n",
    "# Generate a 3D Gaussian distribution with the specified mean and covariance as data\n",
    "num_data = 15000\n",
    "data = pd.DataFrame(np.random.multivariate_normal(mean_data, covariance_data, num_simu), columns=['x', 'y', 'z'])\n"
   ]
  },
  {
   "cell_type": "markdown",
   "id": "da008c0d-43da-4f64-83fb-fc39cae4c592",
   "metadata": {
    "tags": []
   },
   "source": [
    "## Before Matching"
   ]
  },
  {
   "cell_type": "markdown",
   "id": "1e7c4676-f5f9-41fa-82b4-c2248f7023e8",
   "metadata": {},
   "source": [
    "Let's take a glance at the datasets before matching."
   ]
  },
  {
   "cell_type": "code",
   "execution_count": null,
   "id": "70f2f90f-9c46-4657-b14f-744b7cc7b5c5",
   "metadata": {
    "tags": []
   },
   "outputs": [],
   "source": [
    "fig = plt.figure(dpi=150)\n",
    "ax = fig.add_subplot(111, projection='3d')\n",
    "ax.scatter(simu['x'], simu['y'], simu['z'], s=1, label='simu', alpha=0.1)\n",
    "ax.scatter(data['x'], data['y'], data['z'], s=1, label='data', alpha=0.1)\n",
    "\n",
    "# Set axis labels\n",
    "ax.set_xlabel('x')\n",
    "ax.set_ylabel('y')\n",
    "ax.set_zlabel('z')\n",
    "\n",
    "plt.legend()\n",
    "# Display the plot\n",
    "plt.title('Before Matching: Gaussian Data and Gaussian Simu')\n",
    "plt.show()"
   ]
  },
  {
   "cell_type": "markdown",
   "id": "cd7ec6d6-9e13-4d3a-a420-791d2b9034ef",
   "metadata": {},
   "source": [
    "We want to see difference in `x`. They look different, but we also know that `x` is correlated with `y,z` so we cannot conclude new physics."
   ]
  },
  {
   "cell_type": "code",
   "execution_count": null,
   "id": "1aa9f136-9654-42ca-827b-62b1c6a6647e",
   "metadata": {
    "tags": []
   },
   "outputs": [],
   "source": [
    "plt.figure(dpi=150)\n",
    "plt.hist(simu['x'], bins=np.linspace(-3,3,20), density=True, label='simu', alpha=0.5)\n",
    "plt.hist(data['x'], bins=np.linspace(-3,3,20), density=True, label='data', alpha=0.5)\n",
    "plt.xlabel('x')\n",
    "plt.ylabel('Frequency')\n",
    "plt.legend()\n",
    "plt.title('Before Matching: Parameter of Interest')"
   ]
  },
  {
   "cell_type": "markdown",
   "id": "e25ac197-9d1b-4cd2-9bdc-d03d8c45541f",
   "metadata": {},
   "source": [
    "For (`y`, `z`), we just want them to be the same to decouple their correlation to `x`. They look very different now."
   ]
  },
  {
   "cell_type": "code",
   "execution_count": null,
   "id": "7a455aa2-70dd-4eea-addd-c77fb3fe41fc",
   "metadata": {
    "tags": []
   },
   "outputs": [],
   "source": [
    "plt.figure(dpi=150)\n",
    "plt.scatter(simu['y'], simu['z'], alpha=0.3, label='simu', s=1)\n",
    "plt.scatter(data['y'], data['z'], alpha=0.3, label='data', s=1)\n",
    "plt.xlabel('y')\n",
    "plt.ylabel('z')\n",
    "plt.legend()\n",
    "plt.title('Before Matching: Covariates to Control')"
   ]
  },
  {
   "cell_type": "markdown",
   "id": "1c12d761-726c-4598-8dd1-51c1f7750b22",
   "metadata": {},
   "source": [
    "## Doing the Matching"
   ]
  },
  {
   "cell_type": "markdown",
   "id": "edc0531e-16e1-46e7-adf1-bfff7deddf86",
   "metadata": {},
   "source": [
    "Below, we use Nearest-Neighbor Matching based on Mahalanobis Distance between data and simulation events."
   ]
  },
  {
   "cell_type": "code",
   "execution_count": null,
   "id": "8b456b71-d206-42a5-bad8-050067fcb0ba",
   "metadata": {
    "tags": []
   },
   "outputs": [],
   "source": [
    "# calling inference class\n",
    "inf = matching.inference.Inference(data=data, simu=simu, \n",
    "                                   covariates=['y', 'z'])"
   ]
  },
  {
   "cell_type": "code",
   "execution_count": null,
   "id": "03540209-4c85-46f6-90cd-e4e520b32c03",
   "metadata": {},
   "outputs": [],
   "source": [
    "# datasets after matching\n",
    "# note that both datasets will be croped into the intersection of central 99% \n",
    "# for every covariate of interest\n",
    "data_matched = inf.match_simu()\n",
    "simu_matched = inf.simu"
   ]
  },
  {
   "cell_type": "markdown",
   "id": "718fc33c-6f95-486c-a5fe-1265ac2aada3",
   "metadata": {},
   "source": [
    "## After Matching"
   ]
  },
  {
   "cell_type": "code",
   "execution_count": null,
   "id": "9b08f1dc-3a1d-4468-b78a-15be7260aa7b",
   "metadata": {
    "tags": []
   },
   "outputs": [],
   "source": [
    "fig = plt.figure(dpi=150)\n",
    "ax = fig.add_subplot(111, projection='3d')\n",
    "ax.scatter(simu_matched['x'], simu_matched['y'], simu_matched['z'], s=1, label='simu', alpha=0.1)\n",
    "ax.scatter(data_matched['x'], data_matched['y'], data_matched['z'], s=1, label='data', alpha=0.1)\n",
    "\n",
    "# Set axis labels\n",
    "ax.set_xlabel('x')\n",
    "ax.set_ylabel('y')\n",
    "ax.set_zlabel('z')\n",
    "\n",
    "plt.legend()\n",
    "# Display the plot\n",
    "plt.title('After Matching: Gaussian Data and Gaussian Simu')\n",
    "plt.show()"
   ]
  },
  {
   "cell_type": "code",
   "execution_count": null,
   "id": "0b22c8f2-86f5-4bbd-8a6b-231af25d04e3",
   "metadata": {
    "tags": []
   },
   "outputs": [],
   "source": [
    "plt.figure(dpi=150)\n",
    "plt.hist(simu_matched['x'], bins=np.linspace(-3,3,20), density=True, label='simu', alpha=0.5)\n",
    "plt.hist(data_matched['x'], bins=np.linspace(-3,3,20), density=True, label='data', alpha=0.5)\n",
    "plt.xlabel('x')\n",
    "plt.ylabel('Frequency')\n",
    "plt.legend()\n",
    "plt.title('After Matching: Parameter of Interest')"
   ]
  },
  {
   "cell_type": "code",
   "execution_count": null,
   "id": "f9aa614a-88f9-42a3-8815-3c47e96c1493",
   "metadata": {
    "tags": []
   },
   "outputs": [],
   "source": [
    "plt.figure(dpi=150)\n",
    "plt.scatter(simu_matched['y'], simu_matched['z'], alpha=0.3, label='simu', s=1)\n",
    "plt.scatter(data_matched['y'], data_matched['z'], alpha=0.3, label='data', s=1)\n",
    "plt.xlabel('y')\n",
    "plt.ylabel('z')\n",
    "plt.legend()\n",
    "plt.title('After Matching: Covariates to Control')"
   ]
  },
  {
   "cell_type": "markdown",
   "id": "e081e008-b894-4c18-a476-e09e19c262e9",
   "metadata": {},
   "source": [
    "As you can see, the 2D distribution in controled covariates look the same after matching. "
   ]
  },
  {
   "cell_type": "code",
   "execution_count": null,
   "id": "8ab5aebe-77c5-40b1-920a-ced7aa0a8cc4",
   "metadata": {},
   "outputs": [],
   "source": []
  }
 ],
 "metadata": {
  "kernelspec": {
   "display_name": "Python 3 (ipykernel)",
   "language": "python",
   "name": "python3"
  },
  "language_info": {
   "codemirror_mode": {
    "name": "ipython",
    "version": 3
   },
   "file_extension": ".py",
   "mimetype": "text/x-python",
   "name": "python",
   "nbconvert_exporter": "python",
   "pygments_lexer": "ipython3",
   "version": "3.8.16"
  }
 },
 "nbformat": 4,
 "nbformat_minor": 5
}
